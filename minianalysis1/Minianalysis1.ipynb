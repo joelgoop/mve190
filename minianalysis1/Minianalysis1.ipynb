{
 "cells": [
  {
   "cell_type": "code",
   "execution_count": null,
   "metadata": {
    "collapsed": false,
    "slideshow": {
     "slide_type": "skip"
    }
   },
   "outputs": [],
   "source": [
    "options(jupyter.plot_mimetypes='image/png')\n",
    "library(MASS)\n",
    "dev.off()"
   ]
  },
  {
   "cell_type": "markdown",
   "metadata": {
    "slideshow": {
     "slide_type": "slide"
    }
   },
   "source": [
    "### Minianalysis 1\n",
    "\n",
    "# Robust regression\n",
    "\n",
    "Joel Goop\n"
   ]
  },
  {
   "cell_type": "markdown",
   "metadata": {
    "slideshow": {
     "slide_type": "slide"
    }
   },
   "source": [
    "# A first look at the data\n",
    "- Dataset: GDP and CO<sub>2</sub> emissions for ~180 countries (retrieved from [Wikipedia](https://en.wikipedia.org/wiki/List_of_countries_by_ratio_of_GDP_to_carbon_dioxide_emissions))\n",
    "- Read and plot\n",
    "\n",
    "```r\n",
    "gdpem<-read.csv(\"gdp-emissions.csv\")\n",
    "plot(gdpem$GDP,gdpem$CO2)\n",
    "```"
   ]
  },
  {
   "cell_type": "code",
   "execution_count": null,
   "metadata": {
    "collapsed": false,
    "slideshow": {
     "slide_type": "-"
    }
   },
   "outputs": [],
   "source": [
    "plot.new()\n",
    "gdpem<-read.csv(\"/home/joel/courses/mve190/data/gdp-emissions.csv\")\n",
    "\n",
    "options(repr.plot.width=4,repr.plot.height=3,repr.plot.res=120)\n",
    "par(cex=1,cex.axis=0.8,cex.lab=0.8,mar=c(3,3,1,1),mgp=c(2,0.5,0),lwd=1)\n",
    "plot(gdpem$GDP,gdpem$CO2,xlab=\"\",ylab=\"\")\n",
    "\n",
    "title(xlab=\"GDP\",line=1.5) \n",
    "title(ylab=\"CO2 emissions\",line=1.5)"
   ]
  },
  {
   "cell_type": "code",
   "execution_count": null,
   "metadata": {
    "collapsed": false,
    "slideshow": {
     "slide_type": "skip"
    }
   },
   "outputs": [],
   "source": [
    "dev.off()"
   ]
  },
  {
   "cell_type": "markdown",
   "metadata": {
    "slideshow": {
     "slide_type": "slide"
    }
   },
   "source": [
    "# Regular vs robust regression\n",
    "- (Ignore possible variable transformations for now)\n",
    "- Fit using both regular and robust\n",
    "```r\n",
    "ols <- lm(CO2 ~ GDP, data=gdpem)\n",
    "rr <- rlm(CO2 ~ GDP, data=gdpem)\n",
    "```\n",
    "- Difficult to see differences\n",
    "- Lowest weighted points are marked"
   ]
  },
  {
   "cell_type": "code",
   "execution_count": null,
   "metadata": {
    "collapsed": false,
    "slideshow": {
     "slide_type": "-"
    }
   },
   "outputs": [],
   "source": [
    "plot.new()\n",
    "gdpmax = max(gdpem$GDP)\n",
    "x=seq(from=0.001,to=gdpmax,length.out=100000)\n",
    "gdp<-data.frame(GDP = x)\n",
    "\n",
    "options(repr.plot.width=4,repr.plot.height=3,repr.plot.res=120)\n",
    "par(cex=1,cex.axis=0.8,cex.lab=0.8,mar=c(3,3,1,1),mgp=c(2,0.5,0),lwd=1)\n",
    "plot(gdpem$GDP,gdpem$CO2,xlab=\"\",ylab=\"\")\n",
    "\n",
    "ols <- lm(CO2 ~ GDP, data=gdpem)\n",
    "rr <- rlm(CO2 ~ GDP, data=gdpem)\n",
    "\n",
    "loww <- head(gdpem[order(rr$w),],n=10)\n",
    "text(loww$GDP,loww$CO2,loww$Country,cex=0.5,pos=1)\n",
    "\n",
    "y=predict(ols,newdata=gdp)\n",
    "ry=predict(rr,newdata=gdp)\n",
    "lines(x[-1],y[-1],col='firebrick')\n",
    "lines(x[-1],ry[-1],col='dodgerblue4')\n",
    "\n",
    "\n",
    "title(xlab=\"GDP\",line=1.5) \n",
    "title(ylab=\"CO2 emissions\",line=1.5)\n",
    "\n",
    "legend( x=\"bottomright\", \n",
    "        legend=c(\"Data\",\"Fit\",\"RR fit\"),\n",
    "        col=c(\"black\",\"firebrick\",\"dodgerblue4\"), lwd=1, lty=c(NA,1,1),\n",
    "        pch=c(1,NA,NA),bty='n',cex=0.7,y.intersp=2.5,inset=0.1)"
   ]
  },
  {
   "cell_type": "code",
   "execution_count": null,
   "metadata": {
    "collapsed": false,
    "slideshow": {
     "slide_type": "skip"
    }
   },
   "outputs": [],
   "source": [
    "dev.off()"
   ]
  },
  {
   "cell_type": "markdown",
   "metadata": {
    "slideshow": {
     "slide_type": "slide"
    }
   },
   "source": [
    "# But if we zoom in\n",
    "- Look only at GDP < 100\n",
    "- Robust line fits significantly better with bulk of data (low-GDP countries)"
   ]
  },
  {
   "cell_type": "code",
   "execution_count": null,
   "metadata": {
    "collapsed": false,
    "slideshow": {
     "slide_type": "-"
    }
   },
   "outputs": [],
   "source": [
    "plot.new()\n",
    "options(repr.plot.width=4,repr.plot.height=3,repr.plot.res=120)\n",
    "par(cex=1,cex.axis=0.8,cex.lab=0.8,mar=c(3,3,1,1),mgp=c(2,0.5,0))\n",
    "plot(gdpem$GDP,gdpem$CO2,xlab=\"\",ylab=\"\",xlim=c(0,100),ylim=c(0,2e5))\n",
    "\n",
    "lines(x[-1],y[-1],col='firebrick')\n",
    "lines(x[-1],ry[-1],col='dodgerblue4')\n",
    "\n",
    "title(xlab=\"GDP\",line=1.5) \n",
    "title(ylab=\"CO2 emissions\",line=1.5)\n",
    "\n",
    "legend( x=\"topleft\", \n",
    "        legend=c(\"Data\",\"Fit\",\"RR fit\"),\n",
    "        col=c(\"black\",\"firebrick\",\"dodgerblue4\"), lwd=1, lty=c(NA,1,1),\n",
    "        pch=c(1,NA,NA),bty='n',cex=0.7,y.intersp=2.5,inset=0.05)"
   ]
  },
  {
   "cell_type": "code",
   "execution_count": null,
   "metadata": {
    "collapsed": false,
    "slideshow": {
     "slide_type": "skip"
    }
   },
   "outputs": [],
   "source": [
    "dev.off()"
   ]
  },
  {
   "cell_type": "markdown",
   "metadata": {
    "slideshow": {
     "slide_type": "slide"
    }
   },
   "source": [
    "# Fit only to low GDPs\n",
    "\n",
    "```r\n",
    "gdpem2 <- gdpem[-order(-gdpem$GDP)[1:100],]\n",
    "\n",
    "ols2 <- lm(CO2 ~ GDP, data=gdpem2)\n",
    "rr2 <- rlm(CO2 ~ GDP, data=gdpem2)\n",
    "```"
   ]
  },
  {
   "cell_type": "code",
   "execution_count": null,
   "metadata": {
    "collapsed": false,
    "slideshow": {
     "slide_type": "-"
    }
   },
   "outputs": [],
   "source": [
    "plot.new()\n",
    "gdpem2 <- gdpem[-order(-gdpem$GDP)[1:100],]\n",
    "\n",
    "gdp2max = max(gdpem2$GDP)\n",
    "x2=seq(from=0.001,to=gdp2max,length.out=100000)\n",
    "gdp2<-data.frame(GDP = x2)\n",
    "\n",
    "options(repr.plot.width=4,repr.plot.height=3,repr.plot.res=120)\n",
    "par(cex=1,cex.axis=0.8,cex.lab=0.8,mar=c(3,3,1,1),mgp=c(2,0.5,0),lwd=1)\n",
    "plot(gdpem2$GDP,gdpem2$CO2,xlab=\"\",ylab=\"\")\n",
    "\n",
    "ols2 <- lm(CO2 ~ GDP, data=gdpem2)\n",
    "rr2 <- rlm(CO2 ~ GDP, data=gdpem2)\n",
    "\n",
    "loww2 <- head(gdpem2[order(rr2$w),],n=5)\n",
    "text(loww2$GDP,loww2$CO2,loww2$Country,cex=0.5,pos=2)\n",
    "\n",
    "y2=predict(ols2,newdata=gdp2)\n",
    "ry2=predict(rr2,newdata=gdp2)\n",
    "lines(x2[-1],y2[-1],col='firebrick')\n",
    "lines(x2[-1],ry2[-1],col='dodgerblue4')\n",
    "\n",
    "\n",
    "title(xlab=\"GDP\",line=1.5) \n",
    "title(ylab=\"CO2 emissions\",line=1.5)\n",
    "\n",
    "legend( x=\"topleft\", \n",
    "        legend=c(\"Data\",\"Fit\",\"RR fit\"),\n",
    "        col=c(\"black\",\"firebrick\",\"dodgerblue4\"), lwd=1, lty=c(NA,1,1),\n",
    "        pch=c(1,NA,NA),bty='n',cex=0.7,y.intersp=2.5,inset=0.05)"
   ]
  },
  {
   "cell_type": "code",
   "execution_count": null,
   "metadata": {
    "collapsed": false,
    "slideshow": {
     "slide_type": "skip"
    }
   },
   "outputs": [],
   "source": [
    "dev.off()"
   ]
  },
  {
   "cell_type": "markdown",
   "metadata": {
    "slideshow": {
     "slide_type": "slide"
    }
   },
   "source": [
    "# But... `log` is magic\n",
    "- Transform both `x` and `y` with `log()`\n",
    "- Plot all versions of model"
   ]
  },
  {
   "cell_type": "code",
   "execution_count": null,
   "metadata": {
    "collapsed": false,
    "slideshow": {
     "slide_type": "-"
    }
   },
   "outputs": [],
   "source": [
    "plot.new()\n",
    "options(repr.plot.width=4,repr.plot.height=3,repr.plot.res=120)\n",
    "par(cex=1,cex.axis=0.8,cex.lab=0.8,mar=c(3,3,1,1),mgp=c(2,0.5,0))\n",
    "plot(log(gdpem$GDP),log(gdpem$CO2),xlab=\"\",ylab=\"\")\n",
    "\n",
    "title(xlab=\"log(GDP)\",line=1.5) \n",
    "title(ylab=\"log(CO2 emissions)\",line=1.5)\n",
    "\n",
    "gdpmax = max(gdpem$GDP)\n",
    "x=seq(from=0.001,to=gdpmax,length.out=100000)\n",
    "gdp<-data.frame(GDP = x)\n",
    "\n",
    "ols <- lm(CO2 ~ GDP, data=gdpem)\n",
    "logols <- lm(log(CO2) ~ log(GDP), data=gdpem)\n",
    "rr <- rlm(CO2 ~ GDP, data=gdpem)\n",
    "logrr <- rlm(log(CO2) ~ log(GDP), data=gdpem)\n",
    "\n",
    "logy=predict(logols,newdata=gdp)\n",
    "y=predict(ols,newdata=gdp)\n",
    "ry=predict(rr,newdata=gdp)\n",
    "logry=predict(logrr,newdata=gdp)\n",
    "\n",
    "lines(log(x[-1]),log(y[-1]),col='firebrick')\n",
    "lines(log(x[-1]),logy[-1],col='dodgerblue4')\n",
    "lines(log(x[-1]),log(ry[-1]),col='forestgreen')\n",
    "lines(log(x[-1]),logry[-1],col='darkorchid4')\n",
    "\n",
    "legend( x=\"topleft\", \n",
    "        legend=c(\"Data\",\"Fit\",\"Log fit\",\"RR fit\",\"Log RR fit\"),\n",
    "        col=c(\"black\",\"firebrick\",\"dodgerblue4\",\"forestgreen\",\"darkorchid4\"), lwd=1, lty=c(NA,1,1,1,1),\n",
    "        pch=c(1,NA,NA,NA,NA),bty='n',cex=0.6,y.intersp=2.5,inset=0.05)"
   ]
  },
  {
   "cell_type": "code",
   "execution_count": null,
   "metadata": {
    "collapsed": false,
    "slideshow": {
     "slide_type": "skip"
    }
   },
   "outputs": [],
   "source": [
    "dev.off()"
   ]
  },
  {
   "cell_type": "code",
   "execution_count": null,
   "metadata": {
    "collapsed": true,
    "slideshow": {
     "slide_type": "skip"
    }
   },
   "outputs": [],
   "source": [
    "load('~/courses/mve190/data/house.RData')\n"
   ]
  },
  {
   "cell_type": "markdown",
   "metadata": {
    "slideshow": {
     "slide_type": "slide"
    }
   },
   "source": [
    "# Another dataset: `house`"
   ]
  },
  {
   "cell_type": "code",
   "execution_count": null,
   "metadata": {
    "collapsed": false,
    "slideshow": {
     "slide_type": "-"
    }
   },
   "outputs": [],
   "source": [
    "plot.new()\n",
    "options(repr.plot.width=4,repr.plot.height=3,repr.plot.res=120)\n",
    "par(cex=1,cex.axis=0.8,cex.lab=0.8,mar=c(3,3,1,1),mgp=c(2,0.5,0))\n",
    "plot(house$SQFT,house$Price,xlab=\"\",ylab=\"\")\n",
    "\n",
    "title(xlab=\"Square feet\",line=1.5) \n",
    "title(ylab=\"Price\",line=1.5)"
   ]
  },
  {
   "cell_type": "markdown",
   "metadata": {
    "slideshow": {
     "slide_type": "slide"
    }
   },
   "source": [
    "# Fit models to data: \n",
    "## Code\n",
    "\n",
    "```r\n",
    "# Ordinary least squares\n",
    "ols <- lm(Price ~ SQFT,data=house)\n",
    "\n",
    "# Robust with rlm and bisquare weighting (increase \n",
    "# no. of iter. to achieve convergence)\n",
    "rr <- rlm(Price ~ SQFT,data=house,psi=psi.bisquare,maxit=100)\n",
    "\n",
    "# Extract weights for each house\n",
    "weights <- data.frame(sqft=house$SQFT,price=house$Price ,resid = rr$resid, weight = rr$w)\n",
    "\n",
    "# Fit OLS without the three lowest-weighted points\n",
    "ols2 <- lm(Price ~ SQFT,data=house[-order(rr$w)[1:3], ])\n",
    "\n",
    "# Fit RR without the three lowest weighted points\n",
    "rr2 <- rlm(Price ~ SQFT,data=house[-order(rr$w)[1:3],],psi=psi.bisquare)\n",
    "```"
   ]
  },
  {
   "cell_type": "markdown",
   "metadata": {
    "slideshow": {
     "slide_type": "slide"
    }
   },
   "source": [
    "# Fit models to data\n",
    "## Results"
   ]
  },
  {
   "cell_type": "code",
   "execution_count": null,
   "metadata": {
    "collapsed": false,
    "slideshow": {
     "slide_type": "-"
    }
   },
   "outputs": [],
   "source": [
    "plot.new()\n",
    "options(repr.plot.width=4,repr.plot.height=3,repr.plot.res=120)\n",
    "par(cex=1,cex.axis=0.8,cex.lab=0.8,mar=c(3,3,1,1),mgp=c(2,0.5,0))\n",
    "plot(house$SQFT,house$Price,xlab=\"\",ylab=\"\")\n",
    "\n",
    "title(xlab=\"Square feet\",ylab=\"Price\",line=1.5) \n",
    "\n",
    "ols <- lm(Price ~ SQFT,data=house)\n",
    "abline(ols,col='firebrick')\n",
    "\n",
    "rr <- rlm(Price ~ SQFT,data=house,psi=psi.bisquare,maxit=50)\n",
    "abline(rr,col='dodgerblue4')\n",
    "weights <- data.frame(sqft=house$SQFT,price=house$Price ,resid = rr$resid, weight = rr$w)\n",
    "\n",
    "rr2 <- rlm(Price ~ SQFT,data=house[-order(rr$w)[1:3],],psi=psi.bisquare)\n",
    "abline(rr2,col='darkseagreen4')\n",
    "\n",
    "loww <- head(weights[order(rr$w),],n=3)\n",
    "text(loww$sqft,loww$price,rownames(loww),pos=1,cex=0.6)\n",
    "\n",
    "ols2 <- lm(Price ~ SQFT,data=house[-order(rr$w)[1:3],])\n",
    "abline(ols2,col='darkorchid4')\n",
    "\n",
    "legend( x=\"topleft\", \n",
    "        legend=c(\"Data\",\"OLS\",\"RR\",\"RR w/o outliers\",\"OLS w/o outliers\"),\n",
    "        col=c(\"black\",\"firebrick\",\"dodgerblue4\",\"forestgreen\",\"darkorchid4\"), lwd=1, lty=c(NA,1,1,1,1),\n",
    "        pch=c(1,NA,NA,NA,NA),bty='n',cex=0.6,y.intersp=2.5,inset=0.05)"
   ]
  },
  {
   "cell_type": "code",
   "execution_count": null,
   "metadata": {
    "collapsed": false,
    "slideshow": {
     "slide_type": "skip"
    }
   },
   "outputs": [],
   "source": [
    "dev.off()"
   ]
  },
  {
   "cell_type": "markdown",
   "metadata": {
    "slideshow": {
     "slide_type": "slide"
    }
   },
   "source": [
    "# Residuals vs leverage\n",
    "With and without the \"outliers\" identified by RR"
   ]
  },
  {
   "cell_type": "code",
   "execution_count": null,
   "metadata": {
    "collapsed": false
   },
   "outputs": [],
   "source": [
    "plot.new()\n",
    "options(repr.plot.width=7,repr.plot.height=3,repr.plot.res=120)\n",
    "par(cex=0.1,cex.axis=0.8,cex.lab=0.8,mar=c(3,3,2,1),mgp=c(2,0.5,0),mfrow=c(1,2))\n",
    "\n",
    "plot(ols,which=5,caption=\"\")\n",
    "plot(ols2,which=5,caption=\"\")"
   ]
  }
 ],
 "metadata": {
  "anaconda-cloud": {},
  "celltoolbar": "Slideshow",
  "kernelspec": {
   "display_name": "R",
   "language": "R",
   "name": "ir"
  },
  "language_info": {
   "codemirror_mode": "r",
   "file_extension": ".r",
   "mimetype": "text/x-r-source",
   "name": "R",
   "pygments_lexer": "r",
   "version": "3.3.2"
  }
 },
 "nbformat": 4,
 "nbformat_minor": 1
}
